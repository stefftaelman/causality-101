{
 "cells": [
  {
   "cell_type": "code",
   "execution_count": 1,
   "metadata": {},
   "outputs": [
    {
     "name": "stderr",
     "output_type": "stream",
     "text": [
      "/var/folders/fl/wxh0fmxj54nfxl1pmyp76jv80000gn/T/ipykernel_90253/525985860.py:3: DeprecationWarning: \n",
      "Pyarrow will become a required dependency of pandas in the next major release of pandas (pandas 3.0),\n",
      "(to allow more performant data types, such as the Arrow string type, and better interoperability with other libraries)\n",
      "but was not found to be installed on your system.\n",
      "If this would cause problems for you,\n",
      "please provide us feedback at https://github.com/pandas-dev/pandas/issues/54466\n",
      "        \n",
      "  import pandas as pd\n"
     ]
    }
   ],
   "source": [
    "import matplotlib.pyplot as plt\n",
    "import numpy as np\n",
    "import pandas as pd\n",
    "import seaborn as sb\n",
    "from sklearn.linear_model import LinearRegression, LogisticRegression\n",
    "import warnings\n",
    "warnings.filterwarnings('ignore')"
   ]
  },
  {
   "cell_type": "markdown",
   "metadata": {},
   "source": [
    "# Part 2: How should we deal with causality?\n",
    "\n",
    "## Low dimensional settings\n",
    "When statisticians talk about bias, adjustment is often the go-to solution. When you have a **low dimensional dataset**, *i.e.*, you only have a limited number of features, it is often possible to adjust for confounding variables. This is done by either stratifying (taking the average of the effects X on Y over each of the confounding groups) or by including the confounder variable in the model. \n",
    "\n",
    "For example, if you are interested in the effect of a gene expression on a survival rate, as in [Uhlen *et al.*, 2018](https://www.science.org/doi/10.1126/science.aan2507?url_ver=Z39.88-2003&rfr_id=ori:rid:crossref.org&rfr_dat=cr_pub%20%200pubmed), you might want to adjust for the age of the patient, as older patients are more likely to die sooner<sup>*</sup>.\n",
    "\n",
    "<sup>*</sup> Interestingly, Uhlen *et al.* did not adjust for age in their 2018 Science publication. A highly interesting critical review of their methods can be found [here](https://www.biorxiv.org/content/10.1101/2020.03.16.994038v2).\n",
    "\n",
    "### Experiment 3: adjusting for confounding variables\n",
    "The dataset in `data/transcriptomics_pathology.csv` contains metadata and gene expression data on 10 genes for 1000 patients:"
   ]
  },
  {
   "cell_type": "code",
   "execution_count": 3,
   "metadata": {},
   "outputs": [
    {
     "data": {
      "text/html": [
       "<div>\n",
       "<style scoped>\n",
       "    .dataframe tbody tr th:only-of-type {\n",
       "        vertical-align: middle;\n",
       "    }\n",
       "\n",
       "    .dataframe tbody tr th {\n",
       "        vertical-align: top;\n",
       "    }\n",
       "\n",
       "    .dataframe thead th {\n",
       "        text-align: right;\n",
       "    }\n",
       "</style>\n",
       "<table border=\"1\" class=\"dataframe\">\n",
       "  <thead>\n",
       "    <tr style=\"text-align: right;\">\n",
       "      <th></th>\n",
       "      <th>Age</th>\n",
       "      <th>Gender</th>\n",
       "      <th>Gene_1 expression</th>\n",
       "      <th>Gene_2 expression</th>\n",
       "      <th>Survival Years</th>\n",
       "    </tr>\n",
       "  </thead>\n",
       "  <tbody>\n",
       "    <tr>\n",
       "      <th>Patient 1</th>\n",
       "      <td>Young</td>\n",
       "      <td>Woman</td>\n",
       "      <td>0.126586</td>\n",
       "      <td>0.883764</td>\n",
       "      <td>24</td>\n",
       "    </tr>\n",
       "    <tr>\n",
       "      <th>Patient 2</th>\n",
       "      <td>Old</td>\n",
       "      <td>Man</td>\n",
       "      <td>1.186966</td>\n",
       "      <td>0.329328</td>\n",
       "      <td>14</td>\n",
       "    </tr>\n",
       "    <tr>\n",
       "      <th>Patient 3</th>\n",
       "      <td>Young</td>\n",
       "      <td>Woman</td>\n",
       "      <td>0.180942</td>\n",
       "      <td>0.745151</td>\n",
       "      <td>65</td>\n",
       "    </tr>\n",
       "    <tr>\n",
       "      <th>Patient 4</th>\n",
       "      <td>Old</td>\n",
       "      <td>Man</td>\n",
       "      <td>0.695649</td>\n",
       "      <td>0.429752</td>\n",
       "      <td>16</td>\n",
       "    </tr>\n",
       "    <tr>\n",
       "      <th>Patient 5</th>\n",
       "      <td>Young</td>\n",
       "      <td>Man</td>\n",
       "      <td>0.189464</td>\n",
       "      <td>0.312411</td>\n",
       "      <td>60</td>\n",
       "    </tr>\n",
       "  </tbody>\n",
       "</table>\n",
       "</div>"
      ],
      "text/plain": [
       "             Age Gender  Gene_1 expression  Gene_2 expression  Survival Years\n",
       "Patient 1  Young  Woman           0.126586           0.883764              24\n",
       "Patient 2    Old    Man           1.186966           0.329328              14\n",
       "Patient 3  Young  Woman           0.180942           0.745151              65\n",
       "Patient 4    Old    Man           0.695649           0.429752              16\n",
       "Patient 5  Young    Man           0.189464           0.312411              60"
      ]
     },
     "execution_count": 3,
     "metadata": {},
     "output_type": "execute_result"
    }
   ],
   "source": [
    "data = pd.read_csv('..//data/transcriptomics_pathology.csv', index_col=0)\n",
    "data.head()"
   ]
  },
  {
   "cell_type": "markdown",
   "metadata": {},
   "source": [
    "Assuming the two genes' expression levels are independent from each other, but confounded by the age of the patient, build a correctly adjusted linear model to find out which gene(s) likely have a causal effect on the survival rate."
   ]
  },
  {
   "cell_type": "code",
   "execution_count": 5,
   "metadata": {},
   "outputs": [
    {
     "name": "stdout",
     "output_type": "stream",
     "text": [
      "\n",
      "    Gene 1's expression has an impact on survival with coefficient -0.73,\n",
      "    Gene 2's expression has an impact on survival with coefficient -17.18\n",
      "    \n"
     ]
    }
   ],
   "source": [
    "# specify below which variables you want to include in the model\n",
    "vars_to_include = ['Gene_1 expression', 'Gene_2 expression', 'Age', 'Gender']\n",
    "\n",
    "# formatting dummy variables\n",
    "data['Age'].replace(['Young', 'Old'], [0, 1], inplace=True)\n",
    "data['Gender'].replace(['Man', 'Woman'], [0, 1], inplace=True)\n",
    "\n",
    "# linear model\n",
    "lm = LinearRegression()\n",
    "lm.fit(data.loc[:, vars_to_include], data['Survival Years'])\n",
    "print(\n",
    "    \"\"\"\n",
    "    Gene 1's expression has an impact on survival with coefficient {},\n",
    "    Gene 2's expression has an impact on survival with coefficient {}\n",
    "    \"\"\".format(round(lm.coef_[0], 2), round(lm.coef_[1], 2))\n",
    "    )"
   ]
  },
  {
   "cell_type": "markdown",
   "metadata": {},
   "source": [
    "You can quickly check the difference this makes in coefficients when you don't adjust for the age of the patient."
   ]
  },
  {
   "cell_type": "markdown",
   "metadata": {},
   "source": [
    "### Experiment 4: All for adjustment, and adjustment for all\n",
    "While adjustment is a step in the right direction, *i.e.*, the one that acknowledges causality, it can sometimes do more harm than good.\n",
    "\n",
    "Consider the following example:\n",
    "**Effects of a New Drug on Blood Pressure**\n",
    "\n",
    "Imagine a clinical trial testing the efficacy of a new drug designed to lower blood pressure in hypertensive patients. The DAG for this scenario might look like this:\n",
    "\n",
    "- Treatment: Represents whether a patient received the new drug (e.g., Drug X) or a placebo.\n",
    "- Blood Pressure: Represents the primary outcome variable, the patient's blood pressure measurement.\n",
    "- Age: Represents the patient's age, a potential confounding variable associated with both the treatment assignment and blood pressure.\n",
    "- Exercise: Represents whether the patient regularly partakes in physical activity, which could affect blood pressure independently of the treatment.\n",
    "- Cholesterol: Represents the cholesterol level of the patient after receiving the treatment. This may impact blood pressure as well."
   ]
  },
  {
   "cell_type": "code",
   "execution_count": 7,
   "metadata": {},
   "outputs": [
    {
     "data": {
      "text/html": [
       "<div>\n",
       "<style scoped>\n",
       "    .dataframe tbody tr th:only-of-type {\n",
       "        vertical-align: middle;\n",
       "    }\n",
       "\n",
       "    .dataframe tbody tr th {\n",
       "        vertical-align: top;\n",
       "    }\n",
       "\n",
       "    .dataframe thead th {\n",
       "        text-align: right;\n",
       "    }\n",
       "</style>\n",
       "<table border=\"1\" class=\"dataframe\">\n",
       "  <thead>\n",
       "    <tr style=\"text-align: right;\">\n",
       "      <th></th>\n",
       "      <th>Treatment</th>\n",
       "      <th>Age</th>\n",
       "      <th>Exercise</th>\n",
       "      <th>Cholesterol</th>\n",
       "      <th>Blood Pressure</th>\n",
       "    </tr>\n",
       "  </thead>\n",
       "  <tbody>\n",
       "    <tr>\n",
       "      <th>Patient 1</th>\n",
       "      <td>Placebo</td>\n",
       "      <td>Young</td>\n",
       "      <td>0</td>\n",
       "      <td>179.690255</td>\n",
       "      <td>109.732353</td>\n",
       "    </tr>\n",
       "    <tr>\n",
       "      <th>Patient 2</th>\n",
       "      <td>Treatment</td>\n",
       "      <td>Old</td>\n",
       "      <td>1</td>\n",
       "      <td>168.880741</td>\n",
       "      <td>124.321006</td>\n",
       "    </tr>\n",
       "    <tr>\n",
       "      <th>Patient 3</th>\n",
       "      <td>Placebo</td>\n",
       "      <td>Young</td>\n",
       "      <td>0</td>\n",
       "      <td>183.684529</td>\n",
       "      <td>113.626123</td>\n",
       "    </tr>\n",
       "    <tr>\n",
       "      <th>Patient 4</th>\n",
       "      <td>Treatment</td>\n",
       "      <td>Young</td>\n",
       "      <td>0</td>\n",
       "      <td>146.573601</td>\n",
       "      <td>97.656936</td>\n",
       "    </tr>\n",
       "    <tr>\n",
       "      <th>Patient 5</th>\n",
       "      <td>Placebo</td>\n",
       "      <td>Young</td>\n",
       "      <td>0</td>\n",
       "      <td>196.820208</td>\n",
       "      <td>118.844416</td>\n",
       "    </tr>\n",
       "  </tbody>\n",
       "</table>\n",
       "</div>"
      ],
      "text/plain": [
       "           Treatment    Age  Exercise  Cholesterol  Blood Pressure\n",
       "Patient 1    Placebo  Young         0   179.690255      109.732353\n",
       "Patient 2  Treatment    Old         1   168.880741      124.321006\n",
       "Patient 3    Placebo  Young         0   183.684529      113.626123\n",
       "Patient 4  Treatment  Young         0   146.573601       97.656936\n",
       "Patient 5    Placebo  Young         0   196.820208      118.844416"
      ]
     },
     "execution_count": 7,
     "metadata": {},
     "output_type": "execute_result"
    }
   ],
   "source": [
    "data = pd.read_csv('../data/blood_pressure.csv', index_col=0)\n",
    "data.head()"
   ]
  },
  {
   "cell_type": "markdown",
   "metadata": {},
   "source": [
    "Which variables should you include in your model to estimate the causal effect of the treatment on blood pressure? How does including them influence the coefficient of the treatment variable?"
   ]
  },
  {
   "cell_type": "code",
   "execution_count": 9,
   "metadata": {},
   "outputs": [
    {
     "name": "stdout",
     "output_type": "stream",
     "text": [
      "\n",
      "    The treatment has an impact on blood pressure with coefficient 1.53,\n",
      "    age has an impact on blood pressure with coefficient 8.08,\n",
      "    exercise has an impact on blood pressure with coefficient -3.01\n",
      "    \n"
     ]
    }
   ],
   "source": [
    "# specify below which variables you want to include in the model\n",
    "vars_to_include = ['Treatment', 'Age', 'Exercise', 'Cholesterol']\n",
    "\n",
    "# formatting dummy variables\n",
    "data['Age'].replace(['Young', 'Old'], [0, 1], inplace=True)\n",
    "data['Treatment'].replace(['Placebo', 'Treatment'], [0, 1], inplace=True)\n",
    "\n",
    "# linear model\n",
    "lm = LinearRegression()\n",
    "lm.fit(data.loc[:, vars_to_include], data['Blood Pressure'])\n",
    "print(\n",
    "    \"\"\"\n",
    "    The treatment has an impact on blood pressure with coefficient {},\n",
    "    age has an impact on blood pressure with coefficient {},\n",
    "    exercise has an impact on blood pressure with coefficient {}\n",
    "    \"\"\".format(round(lm.coef_[0], 2), round(lm.coef_[1], 2), round(lm.coef_[2], 2))\n",
    "    )"
   ]
  },
  {
   "cell_type": "markdown",
   "metadata": {},
   "source": [
    "**Cheatcode:** There is a very handy site called [daggity](http://www.dagitty.net/dags.html) that allows you to draw causal diagrams and check which variables you should adjust for in your analysis. It even allows you to draw in unobserved variables that you know are important, but you can't measure."
   ]
  },
  {
   "cell_type": "markdown",
   "metadata": {},
   "source": [
    "## High dimensional settings\n",
    "When you have a large number of features in your dataset, it can become near-to impossible to construct a DAG of all interactions between the features. Though you could select a subset of features that you do know the interactions for, you might risk exclusion of important confounders. This is where the field of causal machine learning comes in.\n",
    "\n",
    "There are many different methodologies in causal ML, but they all have the same goal: to estimate the causal effect of a treatment on an outcome. For the sake of this session, we will focus on one of the most popular methods: the Augmented Inverse Probability Weighted estimator (AIPW). This method is a doubly robust estimator, meaning that it is consistent if either the treatment model or the outcome model is correctly specified.\n",
    "\n",
    "### Experiment 5:  causal machine learning\n",
    "For this example, we will work on the Lindner dataset, an observational study of 996 patients receiving an initial Percutaneous Coronary Intervention (PCI) at Ohio Heart Health, Christ Hospital, Cincinnati in 1997 and followed for at least 6 months by the staff of the Lindner Center (source: [Kereiakes *et al.*, 2000](https://doi.org/10.1067/mhj.2000.109647)).\n"
   ]
  },
  {
   "cell_type": "code",
   "execution_count": 10,
   "metadata": {},
   "outputs": [
    {
     "data": {
      "text/html": [
       "<div>\n",
       "<style scoped>\n",
       "    .dataframe tbody tr th:only-of-type {\n",
       "        vertical-align: middle;\n",
       "    }\n",
       "\n",
       "    .dataframe tbody tr th {\n",
       "        vertical-align: top;\n",
       "    }\n",
       "\n",
       "    .dataframe thead th {\n",
       "        text-align: right;\n",
       "    }\n",
       "</style>\n",
       "<table border=\"1\" class=\"dataframe\">\n",
       "  <thead>\n",
       "    <tr style=\"text-align: right;\">\n",
       "      <th></th>\n",
       "      <th>PCI care</th>\n",
       "      <th>Stent</th>\n",
       "      <th>Height</th>\n",
       "      <th>Female</th>\n",
       "      <th>Diabetic</th>\n",
       "      <th>Myocardial infarction</th>\n",
       "      <th>Ejection fraction</th>\n",
       "      <th>Vessels</th>\n",
       "      <th>Died</th>\n",
       "    </tr>\n",
       "  </thead>\n",
       "  <tbody>\n",
       "    <tr>\n",
       "      <th>1</th>\n",
       "      <td>1</td>\n",
       "      <td>0</td>\n",
       "      <td>163</td>\n",
       "      <td>1</td>\n",
       "      <td>1</td>\n",
       "      <td>0</td>\n",
       "      <td>56</td>\n",
       "      <td>1</td>\n",
       "      <td>1</td>\n",
       "    </tr>\n",
       "    <tr>\n",
       "      <th>2</th>\n",
       "      <td>1</td>\n",
       "      <td>0</td>\n",
       "      <td>168</td>\n",
       "      <td>0</td>\n",
       "      <td>0</td>\n",
       "      <td>0</td>\n",
       "      <td>56</td>\n",
       "      <td>1</td>\n",
       "      <td>0</td>\n",
       "    </tr>\n",
       "    <tr>\n",
       "      <th>3</th>\n",
       "      <td>1</td>\n",
       "      <td>0</td>\n",
       "      <td>188</td>\n",
       "      <td>0</td>\n",
       "      <td>0</td>\n",
       "      <td>0</td>\n",
       "      <td>50</td>\n",
       "      <td>1</td>\n",
       "      <td>0</td>\n",
       "    </tr>\n",
       "    <tr>\n",
       "      <th>4</th>\n",
       "      <td>1</td>\n",
       "      <td>0</td>\n",
       "      <td>175</td>\n",
       "      <td>0</td>\n",
       "      <td>1</td>\n",
       "      <td>0</td>\n",
       "      <td>50</td>\n",
       "      <td>1</td>\n",
       "      <td>0</td>\n",
       "    </tr>\n",
       "    <tr>\n",
       "      <th>5</th>\n",
       "      <td>1</td>\n",
       "      <td>0</td>\n",
       "      <td>168</td>\n",
       "      <td>1</td>\n",
       "      <td>0</td>\n",
       "      <td>0</td>\n",
       "      <td>55</td>\n",
       "      <td>1</td>\n",
       "      <td>0</td>\n",
       "    </tr>\n",
       "  </tbody>\n",
       "</table>\n",
       "</div>"
      ],
      "text/plain": [
       "   PCI care  Stent  Height  Female  Diabetic  Myocardial infarction  \\\n",
       "1         1      0     163       1         1                      0   \n",
       "2         1      0     168       0         0                      0   \n",
       "3         1      0     188       0         0                      0   \n",
       "4         1      0     175       0         1                      0   \n",
       "5         1      0     168       1         0                      0   \n",
       "\n",
       "   Ejection fraction  Vessels  Died  \n",
       "1                 56        1     1  \n",
       "2                 56        1     0  \n",
       "3                 50        1     0  \n",
       "4                 50        1     0  \n",
       "5                 55        1     0  "
      ]
     },
     "execution_count": 10,
     "metadata": {},
     "output_type": "execute_result"
    }
   ],
   "source": [
    "data = pd.read_csv('../data/lindner.csv', index_col=0)\n",
    "data.head()"
   ]
  },
  {
   "cell_type": "markdown",
   "metadata": {},
   "source": [
    "The dataset contains the following columns:\n",
    "- PCI care (treatment): whether or not the patient received a Percutaneous Coronary Intervention (PCI)\n",
    "- Stent: deployment of a coronary stent\n",
    "- Height: height of the patient in centimeters\n",
    "- Female: whether the patient was female\n",
    "- Diabetic: whether the patient was diabetic\n",
    "- Myocardial infarction: whether the patient had an acute myocardial infarction within the previous 7 days\n",
    "- Ejection fraction: the left ventricle ejection fraction of the patient\n",
    "- Vessels: the number of vessels involved in the patient's initial PCI procedure\n",
    "- Died (outcome): whether or not the patient died within 6 months of the procedure\n",
    "\n",
    "As this is just an observational study (and not a randomized controlled trial), patients received the treatment based on decision by the MD. We first build the propensity model, which estimates the probability of receiving the treatment given the observed covariates:\n",
    "\n",
    "$g(L) = \\hat{E}[A=1|L]$"
   ]
  },
  {
   "cell_type": "code",
   "execution_count": 12,
   "metadata": {},
   "outputs": [
    {
     "data": {
      "image/png": "[encoded data removed]",
      "text/plain": [
       "<Figure size 640x480 with 1 Axes>"
      ]
     },
     "metadata": {},
     "output_type": "display_data"
    },
    {
     "data": {
      "image/png": "[encoded data removed]",
      "text/plain": [
       "<Figure size 640x480 with 1 Axes>"
      ]
     },
     "metadata": {},
     "output_type": "display_data"
    },
    {
     "name": "stdout",
     "output_type": "stream",
     "text": [
      "0.2493502106632051 0.9766029080810934\n"
     ]
    }
   ],
   "source": [
    "# set key variables\n",
    "A = data['PCI care'] # exposure A\n",
    "Y = data['Died'] # outcome Y\n",
    "L = data.loc[\n",
    "    :,\n",
    "    ['Stent', 'Height', 'Female', 'Diabetic', 'Myocardial infarction', 'Ejection fraction', 'Vessels']\n",
    "    ] # covariates L\n",
    "\n",
    "# odds of receiving treatment Ê[A|L] (for simplicity, we use a logistic regression model, but you can use any model)\n",
    "g = LogisticRegression(random_state=42)\n",
    "g.fit(L, A)\n",
    "treatment_propensity = g.predict_proba(L)[:, 1]\n",
    "\n",
    "# visualize this in a histogram and violinplot\n",
    "ax = sb.histplot(treatment_propensity, kde=True, color=\"#00A98F\", bins=10)\n",
    "ax.set(\n",
    "    xlabel='Probability of receiving treatment',\n",
    "    title='Propensity score distribution'\n",
    "    )\n",
    "ax.set_xlim(0, 1)\n",
    "#plt.savefig('./figures/propensity_score_histogram.png')\n",
    "plt.show()\n",
    "\n",
    "ax2 = sb.violinplot(x=A, y=treatment_propensity, palette={'0':\"#FFC000\", '1':\"#00A98F\"}, alpha=0.55)\n",
    "ax2.set(\n",
    "    xlabel='PCI care',\n",
    "    xticklabels=['No', 'Yes'],\n",
    "    ylabel='Probability of receiving treatment',\n",
    "    title='Propensity score distribution by treatment'\n",
    "    )\n",
    "#plt.savefig('./figures/propensity_score_violinplot.png')\n",
    "plt.show()\n",
    "print(min(treatment_propensity), max(treatment_propensity))"
   ]
  },
  {
   "cell_type": "markdown",
   "metadata": {},
   "source": [
    "It seems that most patients were actually fairly likely to receive this treatment given their state (as represented in the covariates). Given the context of the dataset, this makes sense. In a Randomized Controlled Trial however, propensity should be evenly distributed between the treatment and control groups.\n",
    "\n",
    "Secondly, we build the outcome model, which estimates the probability of dying within 6 months given the observed covariates. Finally, we use the AIPW estimator to estimate the causal effect of the treatment on the outcome:\n",
    "\n",
    "$Q^{(0)}(L) = \\hat{E}[Y|A=0, L]$"
   ]
  },
  {
   "cell_type": "code",
   "execution_count": 14,
   "metadata": {},
   "outputs": [],
   "source": [
    "# set key variables\n",
    "X = data.loc[\n",
    "    :,\n",
    "    ['PCI care', 'Stent', 'Height', 'Female', 'Diabetic', 'Myocardial infarction', 'Ejection fraction', 'Vessels']\n",
    "    ] # covariates including exposure\n",
    "\n",
    "# odds of dying within 6 months Ê[Y|L] (for simplicity, we use a logistic regression model, but you can use any model)\n",
    "Q = LogisticRegression(random_state=42)\n",
    "Q.fit(X, Y)\n",
    "\n",
    "# predicted counterfactual outcomes under treatment\n",
    "X_all_treated = X.copy(); X_all_treated['PCI care'] = 1\n",
    "Q1 = Q.predict_proba(X_all_treated)[:, 1]\n",
    "\n",
    "# predicted counterfactual outcomes under no treatment\n",
    "X_none_treated = X.copy(); X_all_treated['PCI care'] = 0\n",
    "Q0 = Q.predict_proba(X_none_treated)[:, 1]"
   ]
  },
  {
   "cell_type": "markdown",
   "metadata": {},
   "source": [
    "We can then calculate the Average Treatment Effect (ATE) by weighing predicted outcomes under each counterfactual treatment by the probability of receiving the treatment:"
   ]
  },
  {
   "cell_type": "code",
   "execution_count": 15,
   "metadata": {},
   "outputs": [],
   "source": [
    "# E[Y^1]\n",
    "Y1 = np.divide(A, treatment_propensity) * (Y - Q1) + Q1\n",
    "EY1 = np.mean(Y1)\n",
    "\n",
    "# E[Y^0]\n",
    "Y0 = np.divide((1-A),(1-treatment_propensity)) * (Y - Q0) + Q0\n",
    "EY0 = np.mean(Y0)"
   ]
  },
  {
   "cell_type": "code",
   "execution_count": 18,
   "metadata": {},
   "outputs": [
    {
     "data": {
      "text/plain": [
       "0.015410050296493633"
      ]
     },
     "execution_count": 18,
     "metadata": {},
     "output_type": "execute_result"
    }
   ],
   "source": [
    "EY1"
   ]
  },
  {
   "cell_type": "code",
   "execution_count": 19,
   "metadata": {},
   "outputs": [
    {
     "name": "stdout",
     "output_type": "stream",
     "text": [
      "\n",
      "    The estimated odds of dying within 6 months under treatment are 1.54% (CI 95%: 0.62-2.46)\n",
      "    \n",
      "\n",
      "    The estimated odds of dying within 6 months without treatment are 4.99%  (CI 95%: 0.15-9.84)\n",
      "    \n",
      "\n",
      "    Treatment thus reduces the odds of dying within 6 months by 3.45%.\n",
      "    \n"
     ]
    }
   ],
   "source": [
    "# quickly calculating standard errors and confidence intervals\n",
    "eic_EY1 = np.divide(A, treatment_propensity) * (Y - Q1) + Q1 - EY1\n",
    "eic_EY0 = np.divide((1-A),(1-treatment_propensity)) * (Y - Q0) + Q0 - EY0\n",
    "se_EY1 = (1/np.sqrt(len(Y))) * np.std(eic_EY1)\n",
    "se_EY0 = (1/np.sqrt(len(Y))) * np.std(eic_EY0)\n",
    "ci_high_EY1 = EY1 + 1.96 * se_EY1; ci_low_EY1 = EY1 - 1.96 * se_EY1\n",
    "ci_high_EY0 = EY0 + 1.96 * se_EY0; ci_low_EY0 = EY0 - 1.96 * se_EY0\n",
    "\n",
    "# printing results\n",
    "print(\n",
    "    \"\"\"\n",
    "    The estimated odds of dying within 6 months under treatment are {}% (CI 95%: {}-{})\n",
    "    \"\"\".format(round(EY1, 4) * 100, round(ci_low_EY1, 4) * 100, round(ci_high_EY1, 4) * 100),\n",
    "    )\n",
    "print(\n",
    "    \"\"\"\n",
    "    The estimated odds of dying within 6 months without treatment are {}%  (CI 95%: {}-{})\n",
    "    \"\"\".format(round(EY0, 4) * 100, round(ci_low_EY0, 4) * 100, round(ci_high_EY0, 4) * 100),\n",
    "    )\n",
    "print(\n",
    "    \"\"\"\n",
    "    Treatment thus reduces the odds of dying within 6 months by {}%.\n",
    "    \"\"\".format(-round(EY1-EY0, 4) * 100)\n",
    "    )"
   ]
  },
  {
   "cell_type": "markdown",
   "metadata": {},
   "source": [
    "Now let's compare to a non-causally informed machine learning model, which does not account for the confounding or colliding variables."
   ]
  },
  {
   "cell_type": "code",
   "execution_count": 20,
   "metadata": {},
   "outputs": [
    {
     "name": "stdout",
     "output_type": "stream",
     "text": [
      "\n",
      "    According to the logistic regression model, the odds of dying within 6 months are increased by -1.27% when receiving treatment\n",
      "    \n"
     ]
    }
   ],
   "source": [
    "# straight-forward logistic regression\n",
    "clf = LogisticRegression(random_state=42)\n",
    "clf.fit(X, Y)\n",
    "\n",
    "print(\n",
    "    \"\"\"\n",
    "    According to the logistic regression model, the odds of dying within 6 months are increased by {}% when receiving treatment\n",
    "    \"\"\".format(round(clf.coef_[0][0], 2))\n",
    ")"
   ]
  },
  {
   "cell_type": "code",
   "execution_count": null,
   "metadata": {},
   "outputs": [],
   "source": []
  }
 ],
 "metadata": {
  "kernelspec": {
   "display_name": "Python 3.9.10 ('causality_101')",
   "language": "python",
   "name": "python3"
  },
  "language_info": {
   "codemirror_mode": {
    "name": "ipython",
    "version": 3
   },
   "file_extension": ".py",
   "mimetype": "text/x-python",
   "name": "python",
   "nbconvert_exporter": "python",
   "pygments_lexer": "ipython3",
   "version": "3.12.1"
  },
  "orig_nbformat": 4,
  "vscode": {
   "interpreter": {
    "hash": "797a1da56c071c43b0243d7fec1cf5873215db430c6429c9c0ba86b3ab21e967"
   }
  }
 },
 "nbformat": 4,
 "nbformat_minor": 2
}
