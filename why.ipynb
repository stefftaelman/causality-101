{
 "cells": [
  {
   "cell_type": "code",
   "execution_count": 13,
   "metadata": {},
   "outputs": [],
   "source": [
    "import matplotlib.pyplot as plt\n",
    "import numpy as np\n",
    "import pandas as pd\n",
    "from scipy.stats import spearmanr, pearsonr, kendalltau\n",
    "import seaborn as sb\n",
    "from tqdm import tqdm"
   ]
  },
  {
   "cell_type": "markdown",
   "metadata": {},
   "source": [
    "# Part 1 : Why do we need causality?\n",
    "## \"Correlation is not causation\"\n",
    "It is chanted by every statistician and their mothers, but why? Let's do some experiments.\n",
    "\n",
    "### Experiment 0: Directionality\n",
    "Let's say we have data on two variables, the expression of a certain gene and a disease status, and we want to see if they are correlated. Let's simulate some data assuming as ground truth that the gene is causal for the disease."
   ]
  },
  {
   "cell_type": "code",
   "execution_count": 9,
   "metadata": {},
   "outputs": [
    {
     "data": {
      "text/html": [
       "<div>\n",
       "<style scoped>\n",
       "    .dataframe tbody tr th:only-of-type {\n",
       "        vertical-align: middle;\n",
       "    }\n",
       "\n",
       "    .dataframe tbody tr th {\n",
       "        vertical-align: top;\n",
       "    }\n",
       "\n",
       "    .dataframe thead th {\n",
       "        text-align: right;\n",
       "    }\n",
       "</style>\n",
       "<table border=\"1\" class=\"dataframe\">\n",
       "  <thead>\n",
       "    <tr style=\"text-align: right;\">\n",
       "      <th></th>\n",
       "      <th>Gene Expression</th>\n",
       "      <th>Disease State</th>\n",
       "    </tr>\n",
       "  </thead>\n",
       "  <tbody>\n",
       "    <tr>\n",
       "      <th>Patient 1</th>\n",
       "      <td>0.470822</td>\n",
       "      <td>Healthy</td>\n",
       "    </tr>\n",
       "    <tr>\n",
       "      <th>Patient 2</th>\n",
       "      <td>0.537303</td>\n",
       "      <td>Sick</td>\n",
       "    </tr>\n",
       "    <tr>\n",
       "      <th>Patient 3</th>\n",
       "      <td>0.176356</td>\n",
       "      <td>Healthy</td>\n",
       "    </tr>\n",
       "    <tr>\n",
       "      <th>Patient 4</th>\n",
       "      <td>0.471038</td>\n",
       "      <td>Healthy</td>\n",
       "    </tr>\n",
       "    <tr>\n",
       "      <th>Patient 5</th>\n",
       "      <td>0.559408</td>\n",
       "      <td>Sick</td>\n",
       "    </tr>\n",
       "  </tbody>\n",
       "</table>\n",
       "</div>"
      ],
      "text/plain": [
       "           Gene Expression Disease State\n",
       "Patient 1         0.470822       Healthy\n",
       "Patient 2         0.537303          Sick\n",
       "Patient 3         0.176356       Healthy\n",
       "Patient 4         0.471038       Healthy\n",
       "Patient 5         0.559408          Sick"
      ]
     },
     "execution_count": 9,
     "metadata": {},
     "output_type": "execute_result"
    }
   ],
   "source": [
    "# simulate some data where expression causes disease\n",
    "n = 100\n",
    "expression = np.random.normal(0.5, 0.25, n)\n",
    "disease = []\n",
    "\n",
    "for i in range(n):\n",
    "    # the causation is non-deterministic, \n",
    "    # low expression causes disease with 20% probability,\n",
    "    # high expression with 80%\n",
    "    if expression[i] <= 0.5:\n",
    "        odds = 0.2\n",
    "    else:\n",
    "        odds = 0.8\n",
    "    disease.append(\n",
    "        np.random.choice([\"Healthy\", \"Sick\"], p = [1 - odds, odds])\n",
    "    )\n",
    "\n",
    "data = pd.DataFrame(\n",
    "    {\"Gene Expression\": expression, \"Disease State\": disease}, \n",
    "    index = [\"Patient {}\".format(id) for id in range(1, n+1)]\n",
    "    )\n",
    "data.head()"
   ]
  },
  {
   "cell_type": "markdown",
   "metadata": {},
   "source": [
    "We can look at the correlation between the two variables, which is significant!"
   ]
  },
  {
   "cell_type": "code",
   "execution_count": 82,
   "metadata": {},
   "outputs": [
    {
     "name": "stdout",
     "output_type": "stream",
     "text": [
      "\tSpearman Rank correlation between expression and disease: \n",
      "\t0.48122648215105696 (p = 4.0164229808208375e-07)\n"
     ]
    }
   ],
   "source": [
    "rho, p = spearmanr(expression, disease)\n",
    "print(\"\\tSpearman Rank correlation between expression and disease: \\n\\t{} (p = {})\".format(rho, p))"
   ]
  },
  {
   "cell_type": "markdown",
   "metadata": {},
   "source": [
    "But quickly find out that correlation metrics are symmetric<sup>*</sup>, so we can't tell which variable would be causing the other."
   ]
  },
  {
   "cell_type": "code",
   "execution_count": 83,
   "metadata": {},
   "outputs": [
    {
     "name": "stdout",
     "output_type": "stream",
     "text": [
      "\tSpearman Rank correlation disease-expression: \n",
      "\t0.4812264821510569 (p = 4.0164229808208523e-07)\n",
      "\n",
      "\n",
      "\tPearson correlation expression-disease: \n",
      "\t0.49374658394395476 (p = 1.789528425957379e-07)\n",
      "\n",
      "\tPearson correlation disease-expression: \n",
      "\t0.49374658394395476 (p = 1.789528425957379e-07)\n",
      "\n",
      "\n",
      "\tKendall's tau correlation expression-disease: \n",
      "\t0.4056903108710243 (p = 8.688509155750829e-07)\n",
      "\n",
      "\tKendall's tau correlation disease-expression: \n",
      "\t0.4056903108710243 (p = 8.688509155750829e-07)\n"
     ]
    }
   ],
   "source": [
    "rho, p = spearmanr(disease, expression)\n",
    "print(\"\\tSpearman Rank correlation disease-expression: \\n\\t{} (p = {})\\n\\n\".format(rho, p))\n",
    "\n",
    "rho, p = pearsonr([i == \"Sick\" for i in disease], expression)\n",
    "print(\"\\tPearson correlation expression-disease: \\n\\t{} (p = {})\\n\".format(rho, p))\n",
    "rho, p = pearsonr(expression, [i == \"Sick\" for i in disease])\n",
    "print(\"\\tPearson correlation disease-expression: \\n\\t{} (p = {})\\n\\n\".format(rho, p))\n",
    "\n",
    "rho, p = kendalltau(disease, expression)\n",
    "print(\"\\tKendall's tau correlation expression-disease: \\n\\t{} (p = {})\\n\".format(rho, p))\n",
    "rho, p = kendalltau(expression, disease)\n",
    "print(\"\\tKendall's tau correlation disease-expression: \\n\\t{} (p = {})\".format(rho, p))"
   ]
  },
  {
   "cell_type": "markdown",
   "metadata": {},
   "source": [
    "<sup>*</sup> Though obscure, there are some asymmetric correlation metrics, such as the $\\xi$-correlation coefficient — as beautifully implemented in [this Julia package](https://github.com/stefftaelman/Xicor.jl)."
   ]
  },
  {
   "cell_type": "markdown",
   "metadata": {},
   "source": [
    "### Experiment 1: The common cause\n",
    "Not only directionality is left ambiguous, correlation can also spuriously link unrelated variables.\n",
    "\n",
    "Let's suppose we that we also had data on the patient's age-group in the previous dataset."
   ]
  },
  {
   "cell_type": "code",
   "execution_count": 78,
   "metadata": {},
   "outputs": [
    {
     "data": {
      "text/html": [
       "<div>\n",
       "<style scoped>\n",
       "    .dataframe tbody tr th:only-of-type {\n",
       "        vertical-align: middle;\n",
       "    }\n",
       "\n",
       "    .dataframe tbody tr th {\n",
       "        vertical-align: top;\n",
       "    }\n",
       "\n",
       "    .dataframe thead th {\n",
       "        text-align: right;\n",
       "    }\n",
       "</style>\n",
       "<table border=\"1\" class=\"dataframe\">\n",
       "  <thead>\n",
       "    <tr style=\"text-align: right;\">\n",
       "      <th></th>\n",
       "      <th>Gene Expression</th>\n",
       "      <th>Age</th>\n",
       "      <th>Disease State</th>\n",
       "    </tr>\n",
       "  </thead>\n",
       "  <tbody>\n",
       "    <tr>\n",
       "      <th>Patient 1</th>\n",
       "      <td>0.137499</td>\n",
       "      <td>Young</td>\n",
       "      <td>Healthy</td>\n",
       "    </tr>\n",
       "    <tr>\n",
       "      <th>Patient 2</th>\n",
       "      <td>0.300912</td>\n",
       "      <td>Young</td>\n",
       "      <td>Healthy</td>\n",
       "    </tr>\n",
       "    <tr>\n",
       "      <th>Patient 3</th>\n",
       "      <td>0.875225</td>\n",
       "      <td>Old</td>\n",
       "      <td>Sick</td>\n",
       "    </tr>\n",
       "    <tr>\n",
       "      <th>Patient 4</th>\n",
       "      <td>0.262034</td>\n",
       "      <td>Young</td>\n",
       "      <td>Healthy</td>\n",
       "    </tr>\n",
       "    <tr>\n",
       "      <th>Patient 5</th>\n",
       "      <td>0.383022</td>\n",
       "      <td>Young</td>\n",
       "      <td>Healthy</td>\n",
       "    </tr>\n",
       "  </tbody>\n",
       "</table>\n",
       "</div>"
      ],
      "text/plain": [
       "           Gene Expression    Age Disease State\n",
       "Patient 1         0.137499  Young       Healthy\n",
       "Patient 2         0.300912  Young       Healthy\n",
       "Patient 3         0.875225    Old          Sick\n",
       "Patient 4         0.262034  Young       Healthy\n",
       "Patient 5         0.383022  Young       Healthy"
      ]
     },
     "execution_count": 78,
     "metadata": {},
     "output_type": "execute_result"
    }
   ],
   "source": [
    "# simulate some data\n",
    "n = 100\n",
    "ages = []\n",
    "expression = []\n",
    "disease = []\n",
    "\n",
    "for i in range(n):\n",
    "    age = np.random.choice([\"Young\", \"Old\"])\n",
    "    ages.append(age)\n",
    "    if age == \"Young\":\n",
    "        odds = 0.2\n",
    "        expression.append(np.random.normal(0.20, 0.25))\n",
    "    else:\n",
    "        odds = 0.8\n",
    "        expression.append(np.random.normal(0.80, 0.25))\n",
    "    #expression.append(np.random.choice([\"Low\", \"High\"], p = [1 - odds, odds]))\n",
    "    disease.append(np.random.choice([\"Healthy\", \"Sick\"], p = [1 - odds, odds]))\n",
    "\n",
    "data = pd.DataFrame(\n",
    "    {\"Gene Expression\": expression, \"Age\": ages, \"Disease State\": disease}, \n",
    "    index = [\"Patient {}\".format(id) for id in range(1, n+1)]\n",
    "    )\n",
    "data.head()"
   ]
  },
  {
   "cell_type": "markdown",
   "metadata": {},
   "source": [
    "Let's take a look how the expression of this gene correlates with the disease state."
   ]
  },
  {
   "cell_type": "code",
   "execution_count": 84,
   "metadata": {},
   "outputs": [
    {
     "name": "stdout",
     "output_type": "stream",
     "text": [
      "Spearman Rank correlation between expression and disease: \n",
      "0.4944 (p = 1.7139240862060296e-07).\n"
     ]
    }
   ],
   "source": [
    "# calculate the spearman rank correlation\n",
    "rho, p = spearmanr(data[\"Gene Expression\"], data[\"Disease State\"])\n",
    "print(\"Spearman Rank correlation between expression and disease: \\n{} (p = {}).\".format(round(rho, 4), p))"
   ]
  },
  {
   "cell_type": "markdown",
   "metadata": {},
   "source": [
    "It appears we have a biomarker on our hands! \n",
    "\n",
    "Before we report back to the clinicians, however, let's take a look at how strongly this biomarker influences each age group."
   ]
  },
  {
   "cell_type": "code",
   "execution_count": 80,
   "metadata": {},
   "outputs": [
    {
     "name": "stdout",
     "output_type": "stream",
     "text": [
      "In the young age group, the gene and disease state have a correlation of 0.1327 (p = 0.3296753861319971)\n",
      "In the older age group, the gene and disease state have a correlation of 0.0156 (p = 0.9197074073033253)\n"
     ]
    }
   ],
   "source": [
    "# separate the age groups\n",
    "young_people = [patient for patient in data.index if data.loc[patient, \"Age\"] == \"Young\"]\n",
    "old_people = [patient for patient in data.index if data.loc[patient, \"Age\"] == \"Old\"]\n",
    "\n",
    "# calculate some correlations\n",
    "rho_young, p_young = spearmanr(data.loc[young_people, \"Gene Expression\"], data.loc[young_people, \"Disease State\"])\n",
    "rho_old, p_old = spearmanr(data.loc[old_people, \"Gene Expression\"], data.loc[old_people, \"Disease State\"])\n",
    "\n",
    "print(\"In the young age group, the gene and disease state have a correlation of {} (p = {})\".format(round(rho_young, 4), p_young))\n",
    "print(\"In the older age group, the gene and disease state have a correlation of {} (p = {})\".format(round(rho_old, 4), p_old))"
   ]
  },
  {
   "cell_type": "markdown",
   "metadata": {},
   "source": [
    "It appears our *\"biomarker\"* is not really of use for either young or old people... Now what's going on here?\n",
    "\n",
    "While we're testing the effect expression $\\xrightarrow{}$ disease state, it is in fact the age that is influencing both, *i.e.*, age is *confounding* the effect we're trying to test. Old people are more likely to have a higher expression of this gene, and are also more likely to have the disease. This is made apparent when we look at the effect adjusted for the age group, as we started to do above.\n",
    "\n",
    "If we draw out the causal graph, it would look like this:\n",
    "\n",
    "![Experiment-1-CG](figures/Exp1.png)"
   ]
  },
  {
   "cell_type": "markdown",
   "metadata": {},
   "source": [
    "### Experiment 2: collider bias\n",
    "While the common cause is quite widely understood, there's another less intuitive causal structure that can lead us to wrongful conclusions. \n",
    "\n",
    "Let's set up an experiment where we simultaneously flip two coins a number of times, but we only record the times when at least one of them shows heads, which should be most (75%) of the time."
   ]
  },
  {
   "cell_type": "code",
   "execution_count": 85,
   "metadata": {},
   "outputs": [
    {
     "data": {
      "text/html": [
       "<div>\n",
       "<style scoped>\n",
       "    .dataframe tbody tr th:only-of-type {\n",
       "        vertical-align: middle;\n",
       "    }\n",
       "\n",
       "    .dataframe tbody tr th {\n",
       "        vertical-align: top;\n",
       "    }\n",
       "\n",
       "    .dataframe thead th {\n",
       "        text-align: right;\n",
       "    }\n",
       "</style>\n",
       "<table border=\"1\" class=\"dataframe\">\n",
       "  <thead>\n",
       "    <tr style=\"text-align: right;\">\n",
       "      <th></th>\n",
       "      <th>coin 1</th>\n",
       "      <th>coin 2</th>\n",
       "    </tr>\n",
       "  </thead>\n",
       "  <tbody>\n",
       "    <tr>\n",
       "      <th>flip nr. 1</th>\n",
       "      <td>1</td>\n",
       "      <td>1</td>\n",
       "    </tr>\n",
       "    <tr>\n",
       "      <th>flip nr. 2</th>\n",
       "      <td>0</td>\n",
       "      <td>1</td>\n",
       "    </tr>\n",
       "    <tr>\n",
       "      <th>flip nr. 3</th>\n",
       "      <td>0</td>\n",
       "      <td>1</td>\n",
       "    </tr>\n",
       "    <tr>\n",
       "      <th>flip nr. 4</th>\n",
       "      <td>1</td>\n",
       "      <td>1</td>\n",
       "    </tr>\n",
       "    <tr>\n",
       "      <th>flip nr. 5</th>\n",
       "      <td>1</td>\n",
       "      <td>1</td>\n",
       "    </tr>\n",
       "  </tbody>\n",
       "</table>\n",
       "</div>"
      ],
      "text/plain": [
       "            coin 1  coin 2\n",
       "flip nr. 1       1       1\n",
       "flip nr. 2       0       1\n",
       "flip nr. 3       0       1\n",
       "flip nr. 4       1       1\n",
       "flip nr. 5       1       1"
      ]
     },
     "execution_count": 85,
     "metadata": {},
     "output_type": "execute_result"
    }
   ],
   "source": [
    "results_coin_1 = []\n",
    "results_coin_2 = []\n",
    "n = 100\n",
    "\n",
    "# we will just simulate a binary flip, where 1 = heads and 0 = tails\n",
    "for i in range(n):\n",
    "    coin_1 = np.random.choice([0, 1])\n",
    "    coin_2 = np.random.choice([0, 1])\n",
    "    if coin_1 or coin_2:\n",
    "        results_coin_1.append(coin_1)\n",
    "        results_coin_2.append(coin_2)\n",
    "\n",
    "pd.DataFrame(\n",
    "    {\"coin 1\": results_coin_1, \"coin 2\": results_coin_2}, \n",
    "    index=[f\"flip nr. {i}\" for i in range(1, len(results_coin_1)+1)]\n",
    "    ).head()"
   ]
  },
  {
   "cell_type": "code",
   "execution_count": 90,
   "metadata": {},
   "outputs": [
    {
     "name": "stdout",
     "output_type": "stream",
     "text": [
      "\t82 coin flips were recorded. The two coins are shown to be highly associated \n",
      "\t(Spearman Rank correlation = -0.4574; p = 1.555795726527353e-05). Further \n",
      "\tresearch is however required to uncover the exact nature of their relationship.\n"
     ]
    }
   ],
   "source": [
    "# calculate the spearman rank correlation between the coins\n",
    "rho, p = spearmanr(results_coin_1, results_coin_2)\n",
    "\n",
    "print(\"\\t{} coin flips were recorded. The two coins are shown to be highly associated \\n\\t(Spearman Rank correlation = {}; p = {}). Further \\n\\tresearch is however required to uncover the exact nature of their relationship.\".format(len(results_coin_1), round(rho, 4), p))"
   ]
  },
  {
   "cell_type": "markdown",
   "metadata": {},
   "source": [
    "Although the flipping of two coins should be two completely independent events, they are aparently extremely correlated when we don't have all the data.\n",
    "\n",
    "To prove that this is not some kind of statistical fluke, let's repeat the experiment a 10000 times and plot a histogram of the p-values."
   ]
  },
  {
   "cell_type": "code",
   "execution_count": 108,
   "metadata": {},
   "outputs": [
    {
     "name": "stderr",
     "output_type": "stream",
     "text": [
      "100%|██████████| 10000/10000 [00:09<00:00, 1014.59it/s]\n"
     ]
    },
    {
     "data": {
      "image/png": "[encoded data removed]",
      "text/plain": [
       "<Figure size 640x480 with 1 Axes>"
      ]
     },
     "metadata": {},
     "output_type": "display_data"
    }
   ],
   "source": [
    "p_vals = []\n",
    "for iteration in tqdm(range(10000)):\n",
    "    results_coin_1 = []\n",
    "    results_coin_2 = []\n",
    "    n = 100\n",
    "\n",
    "    # we will just simulate a binary flip, where 1 = heads and 0 = tails\n",
    "    for i in range(n):\n",
    "        coin_1 = np.random.choice([0, 1])\n",
    "        coin_2 = np.random.choice([0, 1])\n",
    "        if coin_1 or coin_2:\n",
    "            results_coin_1.append(coin_1)\n",
    "            results_coin_2.append(coin_2)\n",
    "\n",
    "    # calculate the spearman rank correlation between the coins\n",
    "    _, p = spearmanr(results_coin_1, results_coin_2)\n",
    "    p_vals.append(p)\n",
    "\n",
    "sb.histplot(p_vals, color=\"#00A98F\", log_scale=True)\n",
    "plt.axvline(0.1, color=\"#FFC000\", linestyle=\"--\", label=\"alpha = 0.10\")\n",
    "plt.xlabel('p-value')\n",
    "plt.legend()\n",
    "plt.savefig('collider_pvalue_hist.png', dpi=500)"
   ]
  },
  {
   "cell_type": "code",
   "execution_count": 111,
   "metadata": {},
   "outputs": [
    {
     "name": "stdout",
     "output_type": "stream",
     "text": [
      "0 runs had a non-significant p-value (alpha = 0.10)\n"
     ]
    }
   ],
   "source": [
    "print(\"{} runs had a non-significant p-value (alpha = 0.10)\".format(sum([1 for i in p_vals if i > 0.01])))"
   ]
  }
 ],
 "metadata": {
  "kernelspec": {
   "display_name": "Python 3.9.10 ('causality_101')",
   "language": "python",
   "name": "python3"
  },
  "language_info": {
   "codemirror_mode": {
    "name": "ipython",
    "version": 3
   },
   "file_extension": ".py",
   "mimetype": "text/x-python",
   "name": "python",
   "nbconvert_exporter": "python",
   "pygments_lexer": "ipython3",
   "version": "3.12.1"
  },
  "orig_nbformat": 4,
  "vscode": {
   "interpreter": {
    "hash": "797a1da56c071c43b0243d7fec1cf5873215db430c6429c9c0ba86b3ab21e967"
   }
  }
 },
 "nbformat": 4,
 "nbformat_minor": 2
}
