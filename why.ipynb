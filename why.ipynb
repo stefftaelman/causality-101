{
 "cells": [
  {
   "cell_type": "code",
   "execution_count": 1,
   "metadata": {},
   "outputs": [
    {
     "name": "stderr",
     "output_type": "stream",
     "text": [
      "/var/folders/fl/wxh0fmxj54nfxl1pmyp76jv80000gn/T/ipykernel_12678/922582799.py:3: DeprecationWarning: \n",
      "Pyarrow will become a required dependency of pandas in the next major release of pandas (pandas 3.0),\n",
      "(to allow more performant data types, such as the Arrow string type, and better interoperability with other libraries)\n",
      "but was not found to be installed on your system.\n",
      "If this would cause problems for you,\n",
      "please provide us feedback at https://github.com/pandas-dev/pandas/issues/54466\n",
      "        \n",
      "  import pandas as pd\n"
     ]
    }
   ],
   "source": [
    "import matplotlib.pyplot as plt\n",
    "import numpy as np\n",
    "import pandas as pd\n",
    "from scipy.stats import spearmanr, pearsonr, kendalltau, false_discovery_control\n",
    "import seaborn as sb\n",
    "from tqdm import tqdm"
   ]
  },
  {
   "cell_type": "markdown",
   "metadata": {},
   "source": [
    "# Part 1 : Why do we need causality?\n",
    "## \"Correlation is not causation\"\n",
    "It is chanted by every statistician and their mothers, but why? Let's do some experiments.\n",
    "\n",
    "### Experiment 0: Directionality\n",
    "Let's say we have data on two variables, the expression of a certain gene and a disease status, and we want to see if they are correlated. Let's simulate some data assuming as ground truth that the gene is causal for the disease."
   ]
  },
  {
   "cell_type": "code",
   "execution_count": 2,
   "metadata": {},
   "outputs": [
    {
     "data": {
      "text/html": [
       "<div>\n",
       "<style scoped>\n",
       "    .dataframe tbody tr th:only-of-type {\n",
       "        vertical-align: middle;\n",
       "    }\n",
       "\n",
       "    .dataframe tbody tr th {\n",
       "        vertical-align: top;\n",
       "    }\n",
       "\n",
       "    .dataframe thead th {\n",
       "        text-align: right;\n",
       "    }\n",
       "</style>\n",
       "<table border=\"1\" class=\"dataframe\">\n",
       "  <thead>\n",
       "    <tr style=\"text-align: right;\">\n",
       "      <th></th>\n",
       "      <th>Gene Expression</th>\n",
       "      <th>Disease State</th>\n",
       "    </tr>\n",
       "  </thead>\n",
       "  <tbody>\n",
       "    <tr>\n",
       "      <th>Patient 1</th>\n",
       "      <td>0.163089</td>\n",
       "      <td>Healthy</td>\n",
       "    </tr>\n",
       "    <tr>\n",
       "      <th>Patient 2</th>\n",
       "      <td>0.518281</td>\n",
       "      <td>Sick</td>\n",
       "    </tr>\n",
       "    <tr>\n",
       "      <th>Patient 3</th>\n",
       "      <td>0.781675</td>\n",
       "      <td>Sick</td>\n",
       "    </tr>\n",
       "    <tr>\n",
       "      <th>Patient 4</th>\n",
       "      <td>0.342046</td>\n",
       "      <td>Healthy</td>\n",
       "    </tr>\n",
       "    <tr>\n",
       "      <th>Patient 5</th>\n",
       "      <td>0.487590</td>\n",
       "      <td>Healthy</td>\n",
       "    </tr>\n",
       "  </tbody>\n",
       "</table>\n",
       "</div>"
      ],
      "text/plain": [
       "           Gene Expression Disease State\n",
       "Patient 1         0.163089       Healthy\n",
       "Patient 2         0.518281          Sick\n",
       "Patient 3         0.781675          Sick\n",
       "Patient 4         0.342046       Healthy\n",
       "Patient 5         0.487590       Healthy"
      ]
     },
     "execution_count": 2,
     "metadata": {},
     "output_type": "execute_result"
    }
   ],
   "source": [
    "# simulate some data where expression causes disease\n",
    "n = 100\n",
    "expression = np.random.normal(0.5, 0.25, n)\n",
    "disease = []\n",
    "\n",
    "for i in range(n):\n",
    "    # the causation is non-deterministic, \n",
    "    # low expression causes disease with 20% probability,\n",
    "    # high expression with 80%\n",
    "    if expression[i] <= 0.5:\n",
    "        odds = 0.2\n",
    "    else:\n",
    "        odds = 0.8\n",
    "    disease.append(\n",
    "        np.random.choice([\"Healthy\", \"Sick\"], p = [1 - odds, odds])\n",
    "    )\n",
    "\n",
    "data = pd.DataFrame(\n",
    "    {\"Gene Expression\": expression, \"Disease State\": disease}, \n",
    "    index = [\"Patient {}\".format(id) for id in range(1, n+1)]\n",
    "    )\n",
    "data.head()"
   ]
  },
  {
   "cell_type": "markdown",
   "metadata": {},
   "source": [
    "We can look at the correlation between the two variables, which is significant!"
   ]
  },
  {
   "cell_type": "code",
   "execution_count": 3,
   "metadata": {},
   "outputs": [
    {
     "name": "stdout",
     "output_type": "stream",
     "text": [
      "\tSpearman Rank correlation between expression and disease: \n",
      "\t0.5344451267084176 (p = 1.0215031799783837e-08)\n"
     ]
    }
   ],
   "source": [
    "rho, p = spearmanr(expression, disease)\n",
    "print(\"\\tSpearman Rank correlation between expression and disease: \\n\\t{} (p = {})\".format(rho, p))"
   ]
  },
  {
   "cell_type": "markdown",
   "metadata": {},
   "source": [
    "But quickly find out that correlation metrics are symmetric<sup>*</sup>, so we can't tell which variable would be causing the other."
   ]
  },
  {
   "cell_type": "code",
   "execution_count": 4,
   "metadata": {},
   "outputs": [
    {
     "name": "stdout",
     "output_type": "stream",
     "text": [
      "\tSpearman Rank correlation disease-expression: \n",
      "\t0.5344451267084176 (p = 1.0215031799783837e-08)\n",
      "\n",
      "\n",
      "\tPearson correlation expression-disease: \n",
      "\t0.4901688834792524 (p = 2.262032344332332e-07)\n",
      "\n",
      "\tPearson correlation disease-expression: \n",
      "\t0.4901688834792524 (p = 2.262032344332332e-07)\n",
      "\n",
      "\n",
      "\tKendall's tau correlation expression-disease: \n",
      "\t0.43854905419044465 (p = 1.0510916485016324e-07)\n",
      "\n",
      "\tKendall's tau correlation disease-expression: \n",
      "\t0.4385490541904447 (p = 1.0510916485016324e-07)\n"
     ]
    }
   ],
   "source": [
    "rho, p = spearmanr(disease, expression)\n",
    "print(\"\\tSpearman Rank correlation disease-expression: \\n\\t{} (p = {})\\n\\n\".format(rho, p))\n",
    "\n",
    "rho, p = pearsonr([i == \"Sick\" for i in disease], expression)\n",
    "print(\"\\tPearson correlation expression-disease: \\n\\t{} (p = {})\\n\".format(rho, p))\n",
    "rho, p = pearsonr(expression, [i == \"Sick\" for i in disease])\n",
    "print(\"\\tPearson correlation disease-expression: \\n\\t{} (p = {})\\n\\n\".format(rho, p))\n",
    "\n",
    "rho, p = kendalltau(disease, expression)\n",
    "print(\"\\tKendall's tau correlation expression-disease: \\n\\t{} (p = {})\\n\".format(rho, p))\n",
    "rho, p = kendalltau(expression, disease)\n",
    "print(\"\\tKendall's tau correlation disease-expression: \\n\\t{} (p = {})\".format(rho, p))"
   ]
  },
  {
   "cell_type": "markdown",
   "metadata": {},
   "source": [
    "<sup>*</sup> Though obscure, there are some asymmetric correlation metrics, such as the $\\xi$-correlation coefficient — as beautifully implemented in [this Julia package](https://github.com/stefftaelman/Xicor.jl)."
   ]
  },
  {
   "cell_type": "markdown",
   "metadata": {},
   "source": [
    "### Experiment 1: The common cause\n",
    "Not only directionality is left ambiguous, correlation can also spuriously link unrelated variables.\n",
    "\n",
    "Let's suppose we that we also had data on the patient's age-group in the previous dataset."
   ]
  },
  {
   "cell_type": "code",
   "execution_count": 5,
   "metadata": {},
   "outputs": [
    {
     "data": {
      "text/html": [
       "<div>\n",
       "<style scoped>\n",
       "    .dataframe tbody tr th:only-of-type {\n",
       "        vertical-align: middle;\n",
       "    }\n",
       "\n",
       "    .dataframe tbody tr th {\n",
       "        vertical-align: top;\n",
       "    }\n",
       "\n",
       "    .dataframe thead th {\n",
       "        text-align: right;\n",
       "    }\n",
       "</style>\n",
       "<table border=\"1\" class=\"dataframe\">\n",
       "  <thead>\n",
       "    <tr style=\"text-align: right;\">\n",
       "      <th></th>\n",
       "      <th>Gene Expression</th>\n",
       "      <th>Age</th>\n",
       "      <th>Disease State</th>\n",
       "    </tr>\n",
       "  </thead>\n",
       "  <tbody>\n",
       "    <tr>\n",
       "      <th>Patient 1</th>\n",
       "      <td>0.551794</td>\n",
       "      <td>Young</td>\n",
       "      <td>Healthy</td>\n",
       "    </tr>\n",
       "    <tr>\n",
       "      <th>Patient 2</th>\n",
       "      <td>-0.088219</td>\n",
       "      <td>Young</td>\n",
       "      <td>Healthy</td>\n",
       "    </tr>\n",
       "    <tr>\n",
       "      <th>Patient 3</th>\n",
       "      <td>0.092003</td>\n",
       "      <td>Young</td>\n",
       "      <td>Healthy</td>\n",
       "    </tr>\n",
       "    <tr>\n",
       "      <th>Patient 4</th>\n",
       "      <td>1.096104</td>\n",
       "      <td>Old</td>\n",
       "      <td>Sick</td>\n",
       "    </tr>\n",
       "    <tr>\n",
       "      <th>Patient 5</th>\n",
       "      <td>0.917700</td>\n",
       "      <td>Old</td>\n",
       "      <td>Sick</td>\n",
       "    </tr>\n",
       "  </tbody>\n",
       "</table>\n",
       "</div>"
      ],
      "text/plain": [
       "           Gene Expression    Age Disease State\n",
       "Patient 1         0.551794  Young       Healthy\n",
       "Patient 2        -0.088219  Young       Healthy\n",
       "Patient 3         0.092003  Young       Healthy\n",
       "Patient 4         1.096104    Old          Sick\n",
       "Patient 5         0.917700    Old          Sick"
      ]
     },
     "execution_count": 5,
     "metadata": {},
     "output_type": "execute_result"
    }
   ],
   "source": [
    "# simulate some data\n",
    "n = 100\n",
    "ages = []\n",
    "expression = []\n",
    "disease = []\n",
    "\n",
    "for i in range(n):\n",
    "    age = np.random.choice([\"Young\", \"Old\"])\n",
    "    ages.append(age)\n",
    "    if age == \"Young\":\n",
    "        odds = 0.2\n",
    "        expression.append(np.random.normal(0.20, 0.25))\n",
    "    else:\n",
    "        odds = 0.8\n",
    "        expression.append(np.random.normal(0.80, 0.25))\n",
    "    #expression.append(np.random.choice([\"Low\", \"High\"], p = [1 - odds, odds]))\n",
    "    disease.append(np.random.choice([\"Healthy\", \"Sick\"], p = [1 - odds, odds]))\n",
    "\n",
    "data = pd.DataFrame(\n",
    "    {\"Gene Expression\": expression, \"Age\": ages, \"Disease State\": disease}, \n",
    "    index = [\"Patient {}\".format(id) for id in range(1, n+1)]\n",
    "    )\n",
    "data.head()"
   ]
  },
  {
   "cell_type": "markdown",
   "metadata": {},
   "source": [
    "Let's take a look how the expression of this gene correlates with the disease state."
   ]
  },
  {
   "cell_type": "code",
   "execution_count": 6,
   "metadata": {},
   "outputs": [
    {
     "name": "stdout",
     "output_type": "stream",
     "text": [
      "Spearman Rank correlation between expression and disease: \n",
      "0.5176 (p = 3.506559152527663e-08).\n"
     ]
    }
   ],
   "source": [
    "# calculate the spearman rank correlation\n",
    "rho, p = spearmanr(data[\"Gene Expression\"], data[\"Disease State\"])\n",
    "print(\"Spearman Rank correlation between expression and disease: \\n{} (p = {}).\".format(round(rho, 4), p))"
   ]
  },
  {
   "cell_type": "markdown",
   "metadata": {},
   "source": [
    "It appears we have a biomarker on our hands! \n",
    "\n",
    "Before we report back to the clinicians, however, let's take a look at how strongly this biomarker influences each age group."
   ]
  },
  {
   "cell_type": "code",
   "execution_count": 7,
   "metadata": {},
   "outputs": [
    {
     "name": "stdout",
     "output_type": "stream",
     "text": [
      "In the young age group, the gene and disease state have a correlation of 0.0097 (p = 0.9488587388683376)\n",
      "In the older age group, the gene and disease state have a correlation of 0.0581 (p = 0.6763662948362177)\n"
     ]
    }
   ],
   "source": [
    "# separate the age groups\n",
    "young_people = [patient for patient in data.index if data.loc[patient, \"Age\"] == \"Young\"]\n",
    "old_people = [patient for patient in data.index if data.loc[patient, \"Age\"] == \"Old\"]\n",
    "\n",
    "# calculate some correlations\n",
    "rho_young, p_young = spearmanr(data.loc[young_people, \"Gene Expression\"], data.loc[young_people, \"Disease State\"])\n",
    "rho_old, p_old = spearmanr(data.loc[old_people, \"Gene Expression\"], data.loc[old_people, \"Disease State\"])\n",
    "\n",
    "print(\"In the young age group, the gene and disease state have a correlation of {} (p = {})\".format(round(rho_young, 4), p_young))\n",
    "print(\"In the older age group, the gene and disease state have a correlation of {} (p = {})\".format(round(rho_old, 4), p_old))"
   ]
  },
  {
   "cell_type": "markdown",
   "metadata": {},
   "source": [
    "It appears our *\"biomarker\"* is not really of use for either young or old people... Now what's going on here?\n",
    "\n",
    "While we're testing the effect expression $\\xrightarrow{}$ disease state, it is in fact the age that is influencing both, *i.e.*, age is *confounding* the effect we're trying to test. Old people are more likely to have a higher expression of this gene, and are also more likely to have the disease. This is made apparent when we look at the effect adjusted for the age group, as we started to do above.\n",
    "\n",
    "If we draw out the causal graph, it would look like this:\n",
    "\n",
    "![Experiment-1-CG](figures/Exp1.png)"
   ]
  },
  {
   "cell_type": "markdown",
   "metadata": {},
   "source": [
    "### Experiment 2: collider bias\n",
    "While the common cause is quite widely understood, there's another less intuitive causal structure that can lead us to wrongful conclusions. \n",
    "\n",
    "Let's set up an experiment where we simultaneously flip two coins a number of times, but we only record the times when at least one of them shows heads, which should be most (75%) of the time."
   ]
  },
  {
   "cell_type": "code",
   "execution_count": 8,
   "metadata": {},
   "outputs": [
    {
     "data": {
      "text/html": [
       "<div>\n",
       "<style scoped>\n",
       "    .dataframe tbody tr th:only-of-type {\n",
       "        vertical-align: middle;\n",
       "    }\n",
       "\n",
       "    .dataframe tbody tr th {\n",
       "        vertical-align: top;\n",
       "    }\n",
       "\n",
       "    .dataframe thead th {\n",
       "        text-align: right;\n",
       "    }\n",
       "</style>\n",
       "<table border=\"1\" class=\"dataframe\">\n",
       "  <thead>\n",
       "    <tr style=\"text-align: right;\">\n",
       "      <th></th>\n",
       "      <th>coin 1</th>\n",
       "      <th>coin 2</th>\n",
       "    </tr>\n",
       "  </thead>\n",
       "  <tbody>\n",
       "    <tr>\n",
       "      <th>flip nr. 1</th>\n",
       "      <td>0</td>\n",
       "      <td>1</td>\n",
       "    </tr>\n",
       "    <tr>\n",
       "      <th>flip nr. 2</th>\n",
       "      <td>0</td>\n",
       "      <td>1</td>\n",
       "    </tr>\n",
       "    <tr>\n",
       "      <th>flip nr. 3</th>\n",
       "      <td>0</td>\n",
       "      <td>1</td>\n",
       "    </tr>\n",
       "    <tr>\n",
       "      <th>flip nr. 4</th>\n",
       "      <td>1</td>\n",
       "      <td>1</td>\n",
       "    </tr>\n",
       "    <tr>\n",
       "      <th>flip nr. 5</th>\n",
       "      <td>1</td>\n",
       "      <td>1</td>\n",
       "    </tr>\n",
       "    <tr>\n",
       "      <th>flip nr. 6</th>\n",
       "      <td>0</td>\n",
       "      <td>1</td>\n",
       "    </tr>\n",
       "    <tr>\n",
       "      <th>flip nr. 7</th>\n",
       "      <td>0</td>\n",
       "      <td>1</td>\n",
       "    </tr>\n",
       "    <tr>\n",
       "      <th>flip nr. 8</th>\n",
       "      <td>1</td>\n",
       "      <td>0</td>\n",
       "    </tr>\n",
       "    <tr>\n",
       "      <th>flip nr. 9</th>\n",
       "      <td>0</td>\n",
       "      <td>1</td>\n",
       "    </tr>\n",
       "    <tr>\n",
       "      <th>flip nr. 10</th>\n",
       "      <td>0</td>\n",
       "      <td>1</td>\n",
       "    </tr>\n",
       "  </tbody>\n",
       "</table>\n",
       "</div>"
      ],
      "text/plain": [
       "             coin 1  coin 2\n",
       "flip nr. 1        0       1\n",
       "flip nr. 2        0       1\n",
       "flip nr. 3        0       1\n",
       "flip nr. 4        1       1\n",
       "flip nr. 5        1       1\n",
       "flip nr. 6        0       1\n",
       "flip nr. 7        0       1\n",
       "flip nr. 8        1       0\n",
       "flip nr. 9        0       1\n",
       "flip nr. 10       0       1"
      ]
     },
     "execution_count": 8,
     "metadata": {},
     "output_type": "execute_result"
    }
   ],
   "source": [
    "results_coin_1 = []\n",
    "results_coin_2 = []\n",
    "n = 100\n",
    "\n",
    "# we will just simulate a binary flip, where 1 = heads and 0 = tails\n",
    "for i in range(n):\n",
    "    coin_1 = np.random.choice([0, 1])\n",
    "    coin_2 = np.random.choice([0, 1])\n",
    "    if coin_1 or coin_2:\n",
    "        results_coin_1.append(coin_1)\n",
    "        results_coin_2.append(coin_2)\n",
    "\n",
    "pd.DataFrame(\n",
    "    {\"coin 1\": results_coin_1, \"coin 2\": results_coin_2}, \n",
    "    index=[f\"flip nr. {i}\" for i in range(1, len(results_coin_1)+1)]\n",
    "    ).head(10)"
   ]
  },
  {
   "cell_type": "code",
   "execution_count": 9,
   "metadata": {},
   "outputs": [
    {
     "data": {
      "text/plain": [
       "SignificanceResult(statistic=-0.408248290463863, pvalue=0.24150397191306)"
      ]
     },
     "execution_count": 9,
     "metadata": {},
     "output_type": "execute_result"
    }
   ],
   "source": [
    "spearmanr([1, 1, 0, 0, 1, 1, 1, 1, 1, 1], [1, 0, 1, 1, 1, 1, 0, 0, 0, 1])"
   ]
  },
  {
   "cell_type": "code",
   "execution_count": 10,
   "metadata": {},
   "outputs": [
    {
     "name": "stdout",
     "output_type": "stream",
     "text": [
      "\t79 coin flips were recorded. The two coins are shown to be highly associated \n",
      "\t(Spearman Rank correlation = -0.425; p = 9.441137972608453e-05). Further \n",
      "\tresearch is however required to uncover the exact nature of their relationship.\n"
     ]
    }
   ],
   "source": [
    "# calculate the spearman rank correlation between the coins\n",
    "rho, p = spearmanr(results_coin_1, results_coin_2)\n",
    "\n",
    "print(\"\\t{} coin flips were recorded. The two coins are shown to be highly associated \\n\\t(Spearman Rank correlation = {}; p = {}). Further \\n\\tresearch is however required to uncover the exact nature of their relationship.\".format(len(results_coin_1), round(rho, 4), p))"
   ]
  },
  {
   "cell_type": "markdown",
   "metadata": {},
   "source": [
    "Although the flipping of two coins should be two completely independent events, they are aparently extremely correlated when we don't have all the data.\n",
    "\n",
    "To prove that this is not some kind of statistical fluke, let's repeat the experiment a 10000 times and plot a histogram of the p-values."
   ]
  },
  {
   "cell_type": "code",
   "execution_count": 11,
   "metadata": {},
   "outputs": [
    {
     "name": "stderr",
     "output_type": "stream",
     "text": [
      "100%|██████████| 1000/1000 [00:00<00:00, 1011.20it/s]\n"
     ]
    },
    {
     "data": {
      "image/png": "[encoded data removed]",
      "text/plain": [
       "<Figure size 640x480 with 1 Axes>"
      ]
     },
     "metadata": {},
     "output_type": "display_data"
    }
   ],
   "source": [
    "p_vals = []\n",
    "n_flips_per_it = []\n",
    "for iteration in tqdm(range(1000000)):\n",
    "    results_coin_1 = []\n",
    "    results_coin_2 = []\n",
    "    n = 100\n",
    "\n",
    "    # we will just simulate a binary flip, where 1 = heads and 0 = tails\n",
    "    for i in range(n):\n",
    "        coin_1 = np.random.choice([0, 1])\n",
    "        coin_2 = np.random.choice([0, 1])\n",
    "        if coin_1 or coin_2:\n",
    "            results_coin_1.append(coin_1)\n",
    "            results_coin_2.append(coin_2)\n",
    "\n",
    "    # calculate the spearman rank correlation between the coins\n",
    "    _, p = spearmanr(results_coin_1, results_coin_2)\n",
    "    p_vals.append(p)\n",
    "\n",
    "    # calculate the % of data logged\n",
    "    n_flips_per_it.append(len(results_coin_1))\n",
    "\n",
    "sb.histplot(p_vals, color=\"#00A98F\", log_scale=True, bins=100)\n",
    "plt.axvline(0.05, color=\"#FFC000\", linestyle=\"--\", label=\"alpha = 0.05\")\n",
    "plt.xlabel('p-value')\n",
    "plt.legend()\n",
    "plt.savefig('./figures/collider_pvalue_hist.svg', dpi=500)"
   ]
  },
  {
   "cell_type": "code",
   "execution_count": 14,
   "metadata": {},
   "outputs": [
    {
     "data": {
      "text/plain": [
       "<matplotlib.legend.Legend at 0x16d55b920>"
      ]
     },
     "execution_count": 14,
     "metadata": {},
     "output_type": "execute_result"
    },
    {
     "data": {
      "image/png": "[encoded data removed]",
      "text/plain": [
       "<Figure size 640x480 with 1 Axes>"
      ]
     },
     "metadata": {},
     "output_type": "display_data"
    }
   ],
   "source": [
    "# multiple testing correction\n",
    "adjusted_p_vals = false_discovery_control(p_vals, method=\"bh\")\n",
    "sb.histplot(adjusted_p_vals, color=\"#00A98F\", log_scale=True, bins=100)\n",
    "plt.axvline(0.05, color=\"#FFC000\", linestyle=\"--\", label=\"alpha = 0.05\")\n",
    "plt.xlabel('adjusted p-value')\n",
    "plt.legend()\n",
    "#plt.savefig('./figures/collider_adj_pvalue_hist.svg', dpi=500)\n"
   ]
  },
  {
   "cell_type": "code",
   "execution_count": 16,
   "metadata": {},
   "outputs": [
    {
     "name": "stdout",
     "output_type": "stream",
     "text": [
      "0 runs had a non-significant p-value (alpha = 0.05)\n",
      "243 runs had a non-significant p-value (alpha = 0.01)\n",
      "Runs logged on average 74.999684 +- 0.004330062343678669 coin flips\n"
     ]
    }
   ],
   "source": [
    "print(\"{} runs had a non-significant p-value (alpha = 0.05)\".format(sum([1 for i in p_vals if i > 0.05])))\n",
    "print(\"{} runs had a non-significant p-value (alpha = 0.01)\".format(sum([1 for i in p_vals if i > 0.01])))\n",
    "print(\"Runs logged on average {} +- {} coin flips\".format(np.mean(n_flips_per_it), np.std(n_flips_per_it) / np.sqrt(len(n_flips_per_it))))"
   ]
  },
  {
   "cell_type": "markdown",
   "metadata": {},
   "source": [
    "Collider bias, also called selection bias, is still very prominent in research (e.g., [Griffith *et al.*, 2020](https://www.nature.com/articles/s41467-020-19478-2)), creating significant correlations where there should be none. An often cited example is the apparent negative correlation between actor's looks and their acting skills. If we only look at (*select*) successfull actors, we'll find some that have become popular by their looks and other by their acting prowess. Because only a smaller fraction will be both, we'll observe a negative correlation between the looks and acting skills in this group."
   ]
  }
 ],
 "metadata": {
  "kernelspec": {
   "display_name": "Python 3.9.10 ('causality_101')",
   "language": "python",
   "name": "python3"
  },
  "language_info": {
   "codemirror_mode": {
    "name": "ipython",
    "version": 3
   },
   "file_extension": ".py",
   "mimetype": "text/x-python",
   "name": "python",
   "nbconvert_exporter": "python",
   "pygments_lexer": "ipython3",
   "version": "3.12.1"
  },
  "orig_nbformat": 4,
  "vscode": {
   "interpreter": {
    "hash": "797a1da56c071c43b0243d7fec1cf5873215db430c6429c9c0ba86b3ab21e967"
   }
  }
 },
 "nbformat": 4,
 "nbformat_minor": 2
}
