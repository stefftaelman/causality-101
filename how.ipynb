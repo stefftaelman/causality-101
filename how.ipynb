{
 "cells": [
  {
   "cell_type": "code",
   "execution_count": 33,
   "metadata": {},
   "outputs": [],
   "source": [
    "import numpy as np\n",
    "import pandas as pd\n",
    "from sklearn.linear_model import LinearRegression\n",
    "import warnings\n",
    "warnings.filterwarnings('ignore')"
   ]
  },
  {
   "cell_type": "markdown",
   "metadata": {},
   "source": [
    "# Part 2: How should we deal with causality?\n",
    "\n",
    "## Low dimensional settings\n",
    "When statisticians talk about bias, adjustment is often the go-to solution. When you have a **low dimensional dataset**, *i.e.*, you only have a limited number of features, it is often possible to adjust for confounding variables. This is done by either stratifying (taking the average of the effects X on Y over each of the confounding groups) or by including the confounder variable in the model. \n",
    "\n",
    "For example, if you are interested in the effect of a gene expression on a survival rate, as in [Uhlen *et al.*, 2018](https://www.science.org/doi/10.1126/science.aan2507?url_ver=Z39.88-2003&rfr_id=ori:rid:crossref.org&rfr_dat=cr_pub%20%200pubmed), you might want to adjust for the age of the patient, as older patients are more likely to die sooner<sup>*</sup>.\n",
    "\n",
    "<sup>*</sup> Interestingly, Uhlen *et al.* did not adjust for age in their 2018 Science publication. A highly interesting critical review of their methods can be found [here](https://www.biorxiv.org/content/10.1101/2020.03.16.994038v2).\n",
    "\n",
    "### Experiment 3: adjusting for confounding variables\n",
    "The dataset in `data/transcriptomics_pathology.csv` contains metadata and gene expression data on 10 genes for 1000 patients:"
   ]
  },
  {
   "cell_type": "code",
   "execution_count": 128,
   "metadata": {},
   "outputs": [
    {
     "data": {
      "text/html": [
       "<div>\n",
       "<style scoped>\n",
       "    .dataframe tbody tr th:only-of-type {\n",
       "        vertical-align: middle;\n",
       "    }\n",
       "\n",
       "    .dataframe tbody tr th {\n",
       "        vertical-align: top;\n",
       "    }\n",
       "\n",
       "    .dataframe thead th {\n",
       "        text-align: right;\n",
       "    }\n",
       "</style>\n",
       "<table border=\"1\" class=\"dataframe\">\n",
       "  <thead>\n",
       "    <tr style=\"text-align: right;\">\n",
       "      <th></th>\n",
       "      <th>Age</th>\n",
       "      <th>Gender</th>\n",
       "      <th>Gene_1 expression</th>\n",
       "      <th>Gene_2 expression</th>\n",
       "      <th>Survival Years</th>\n",
       "    </tr>\n",
       "  </thead>\n",
       "  <tbody>\n",
       "    <tr>\n",
       "      <th>Patient 1</th>\n",
       "      <td>Young</td>\n",
       "      <td>Woman</td>\n",
       "      <td>0.126586</td>\n",
       "      <td>0.883764</td>\n",
       "      <td>24</td>\n",
       "    </tr>\n",
       "    <tr>\n",
       "      <th>Patient 2</th>\n",
       "      <td>Old</td>\n",
       "      <td>Man</td>\n",
       "      <td>1.186966</td>\n",
       "      <td>0.329328</td>\n",
       "      <td>14</td>\n",
       "    </tr>\n",
       "    <tr>\n",
       "      <th>Patient 3</th>\n",
       "      <td>Young</td>\n",
       "      <td>Woman</td>\n",
       "      <td>0.180942</td>\n",
       "      <td>0.745151</td>\n",
       "      <td>65</td>\n",
       "    </tr>\n",
       "    <tr>\n",
       "      <th>Patient 4</th>\n",
       "      <td>Old</td>\n",
       "      <td>Man</td>\n",
       "      <td>0.695649</td>\n",
       "      <td>0.429752</td>\n",
       "      <td>16</td>\n",
       "    </tr>\n",
       "    <tr>\n",
       "      <th>Patient 5</th>\n",
       "      <td>Young</td>\n",
       "      <td>Man</td>\n",
       "      <td>0.189464</td>\n",
       "      <td>0.312411</td>\n",
       "      <td>60</td>\n",
       "    </tr>\n",
       "  </tbody>\n",
       "</table>\n",
       "</div>"
      ],
      "text/plain": [
       "             Age Gender  Gene_1 expression  Gene_2 expression  Survival Years\n",
       "Patient 1  Young  Woman           0.126586           0.883764              24\n",
       "Patient 2    Old    Man           1.186966           0.329328              14\n",
       "Patient 3  Young  Woman           0.180942           0.745151              65\n",
       "Patient 4    Old    Man           0.695649           0.429752              16\n",
       "Patient 5  Young    Man           0.189464           0.312411              60"
      ]
     },
     "execution_count": 128,
     "metadata": {},
     "output_type": "execute_result"
    }
   ],
   "source": [
    "data = pd.read_csv('./data/transcriptomics_pathology.csv', index_col=0)\n",
    "data.head()"
   ]
  },
  {
   "cell_type": "markdown",
   "metadata": {},
   "source": [
    "Assuming the two genes' expression levels are independent from each other, but confounded by the age of the patient, build a correctly adjusted linear model to find out which gene(s) likely have a causal effect on the survival rate."
   ]
  },
  {
   "cell_type": "code",
   "execution_count": 132,
   "metadata": {},
   "outputs": [
    {
     "name": "stdout",
     "output_type": "stream",
     "text": [
      "\n",
      "    Gene 1's expression has an impact on survival with coefficient -0.72,\n",
      "    Gene 2's expression has an impact on survival with coefficient -17.18\n",
      "    \n"
     ]
    }
   ],
   "source": [
    "# specify below which variables you want to include in the model\n",
    "vars_to_include = ['Gene_1 expression', 'Gene_2 expression', 'Age']\n",
    "\n",
    "# formatting dummy variables\n",
    "data['Age'].replace(['Young', 'Old'], [0, 1], inplace=True)\n",
    "data['Gender'].replace(['Man', 'Woman'], [0, 1], inplace=True)\n",
    "\n",
    "# linear model\n",
    "lm = LinearRegression()\n",
    "lm.fit(data.loc[:, vars_to_include], data['Survival Years'])\n",
    "print(\n",
    "    \"\"\"\n",
    "    Gene 1's expression has an impact on survival with coefficient {},\n",
    "    Gene 2's expression has an impact on survival with coefficient {}\n",
    "    \"\"\".format(round(lm.coef_[0], 2), round(lm.coef_[1], 2))\n",
    "    )"
   ]
  },
  {
   "cell_type": "markdown",
   "metadata": {},
   "source": [
    "You can quickly check the difference this makes in coefficients when you don't adjust for the age of the patient."
   ]
  },
  {
   "cell_type": "markdown",
   "metadata": {},
   "source": [
    "### Experiment 4: All for adjustment, and adjustment for all\n",
    "While adjustment is a step in the right direction, *i.e.*, the one that acknowledges causality, it can sometimes do more harm than good.\n",
    "\n",
    "Consider the following example:\n",
    "**Effects of a New Drug on Blood Pressure**\n",
    "\n",
    "Imagine a clinical trial testing the efficacy of a new drug designed to lower blood pressure in hypertensive patients. The DAG for this scenario might look like this:\n",
    "\n",
    "- Treatment: Represents whether a patient received the new drug (e.g., Drug X) or a placebo.\n",
    "- Blood Pressure: Represents the primary outcome variable, the patient's blood pressure measurement.\n",
    "- Age: Represents the patient's age, a potential confounding variable associated with both the treatment assignment and blood pressure.\n",
    "- Exercise: Represents whether the patient regularly partakes in physical activity, which could affect blood pressure independently of the treatment.\n",
    "- Cholesterol: Represents the cholesterol level of the patient after receiving the treatment. This may impact blood pressure as well."
   ]
  },
  {
   "cell_type": "code",
   "execution_count": 120,
   "metadata": {},
   "outputs": [
    {
     "data": {
      "text/html": [
       "<div>\n",
       "<style scoped>\n",
       "    .dataframe tbody tr th:only-of-type {\n",
       "        vertical-align: middle;\n",
       "    }\n",
       "\n",
       "    .dataframe tbody tr th {\n",
       "        vertical-align: top;\n",
       "    }\n",
       "\n",
       "    .dataframe thead th {\n",
       "        text-align: right;\n",
       "    }\n",
       "</style>\n",
       "<table border=\"1\" class=\"dataframe\">\n",
       "  <thead>\n",
       "    <tr style=\"text-align: right;\">\n",
       "      <th></th>\n",
       "      <th>Treatment</th>\n",
       "      <th>Age</th>\n",
       "      <th>Exercise</th>\n",
       "      <th>Cholesterol</th>\n",
       "      <th>Blood Pressure</th>\n",
       "    </tr>\n",
       "  </thead>\n",
       "  <tbody>\n",
       "    <tr>\n",
       "      <th>Patient 1</th>\n",
       "      <td>Placebo</td>\n",
       "      <td>Young</td>\n",
       "      <td>0</td>\n",
       "      <td>179.690255</td>\n",
       "      <td>109.732353</td>\n",
       "    </tr>\n",
       "    <tr>\n",
       "      <th>Patient 2</th>\n",
       "      <td>Treatment</td>\n",
       "      <td>Old</td>\n",
       "      <td>1</td>\n",
       "      <td>168.880741</td>\n",
       "      <td>124.321006</td>\n",
       "    </tr>\n",
       "    <tr>\n",
       "      <th>Patient 3</th>\n",
       "      <td>Placebo</td>\n",
       "      <td>Young</td>\n",
       "      <td>0</td>\n",
       "      <td>183.684529</td>\n",
       "      <td>113.626123</td>\n",
       "    </tr>\n",
       "    <tr>\n",
       "      <th>Patient 4</th>\n",
       "      <td>Treatment</td>\n",
       "      <td>Young</td>\n",
       "      <td>0</td>\n",
       "      <td>146.573601</td>\n",
       "      <td>97.656936</td>\n",
       "    </tr>\n",
       "    <tr>\n",
       "      <th>Patient 5</th>\n",
       "      <td>Placebo</td>\n",
       "      <td>Young</td>\n",
       "      <td>0</td>\n",
       "      <td>196.820208</td>\n",
       "      <td>118.844416</td>\n",
       "    </tr>\n",
       "  </tbody>\n",
       "</table>\n",
       "</div>"
      ],
      "text/plain": [
       "           Treatment    Age  Exercise  Cholesterol  Blood Pressure\n",
       "Patient 1    Placebo  Young         0   179.690255      109.732353\n",
       "Patient 2  Treatment    Old         1   168.880741      124.321006\n",
       "Patient 3    Placebo  Young         0   183.684529      113.626123\n",
       "Patient 4  Treatment  Young         0   146.573601       97.656936\n",
       "Patient 5    Placebo  Young         0   196.820208      118.844416"
      ]
     },
     "execution_count": 120,
     "metadata": {},
     "output_type": "execute_result"
    }
   ],
   "source": [
    "data = pd.read_csv('./data/blood_pressure.csv', index_col=0)\n",
    "data.head()"
   ]
  },
  {
   "cell_type": "markdown",
   "metadata": {},
   "source": [
    "Which variables should you include in your model to estimate the causal effect of the treatment on blood pressure? How does including them influence the coefficient of the treatment variable?"
   ]
  },
  {
   "cell_type": "code",
   "execution_count": 126,
   "metadata": {},
   "outputs": [
    {
     "name": "stdout",
     "output_type": "stream",
     "text": [
      "\n",
      "    The treatment has an impact on blood pressure with coefficient 1.53,\n",
      "    age has an impact on blood pressure with coefficient 8.08,\n",
      "    exercise has an impact on blood pressure with coefficient -3.01\n",
      "    \n"
     ]
    }
   ],
   "source": [
    "# specify below which variables you want to include in the model\n",
    "vars_to_include = ['Treatment', 'Age', 'Exercise']\n",
    "\n",
    "# formatting dummy variables\n",
    "data['Age'].replace(['Young', 'Old'], [0, 1], inplace=True)\n",
    "data['Treatment'].replace(['Placebo', 'Treatment'], [0, 1], inplace=True)\n",
    "\n",
    "# linear model\n",
    "lm = LinearRegression()\n",
    "lm.fit(data.loc[:, vars_to_include], data['Blood Pressure'])\n",
    "print(\n",
    "    \"\"\"\n",
    "    The treatment has an impact on blood pressure with coefficient {},\n",
    "    age has an impact on blood pressure with coefficient {},\n",
    "    exercise has an impact on blood pressure with coefficient {}\n",
    "    \"\"\".format(round(lm.coef_[0], 2), round(lm.coef_[1], 2), round(lm.coef_[2], 2))\n",
    "    )"
   ]
  },
  {
   "cell_type": "markdown",
   "metadata": {},
   "source": [
    "**Cheatcode:** There is a very handy site called [daggity](http://www.dagitty.net/dags.html) that allows you to draw causal diagrams and check which variables you should adjust for in your analysis. It even allows you to draw in unobserved variables that you know are important, but you can't measure."
   ]
  }
 ],
 "metadata": {
  "kernelspec": {
   "display_name": "Python 3.9.10 ('causality_101')",
   "language": "python",
   "name": "python3"
  },
  "language_info": {
   "codemirror_mode": {
    "name": "ipython",
    "version": 3
   },
   "file_extension": ".py",
   "mimetype": "text/x-python",
   "name": "python",
   "nbconvert_exporter": "python",
   "pygments_lexer": "ipython3",
   "version": "3.12.1"
  },
  "orig_nbformat": 4,
  "vscode": {
   "interpreter": {
    "hash": "797a1da56c071c43b0243d7fec1cf5873215db430c6429c9c0ba86b3ab21e967"
   }
  }
 },
 "nbformat": 4,
 "nbformat_minor": 2
}
